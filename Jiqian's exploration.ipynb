{
 "cells": [
  {
   "cell_type": "code",
   "execution_count": null,
   "metadata": {},
   "outputs": [],
   "source": [
    "import numpy as np\n",
    "import pandas as pd\n",
    "import pymysql\n",
    "import matplotlib.pyplot as plt\n",
    "import conda\n",
    "import os\n",
    "conda_file_dir = conda.__file__\n",
    "conda_dir = conda_file_dir.split('lib')[0]\n",
    "proj_lib = os.path.join(os.path.join(conda_dir, 'share'), 'proj')\n",
    "os.environ[\"PROJ_LIB\"] = proj_lib\n",
    "from mpl_toolkits.basemap import Basemap"
   ]
  },
  {
   "cell_type": "code",
   "execution_count": null,
   "metadata": {},
   "outputs": [],
   "source": [
    "def read_sql(database, table, mode='all', sql_query = None):\n",
    "    \n",
    "    connect = pymysql.Connect(host='192.168.31.200' ,\n",
    "                         port =3306,\n",
    "                         user='root', \n",
    "                         passwd = 'Alldo807!', \n",
    "                         db = database)\n",
    "    \n",
    "    if mode == \"all\":\n",
    "        data = pd.read_sql(sql = 'select * from %s'%table, con = connect)\n",
    "    elif mode == \"top100\":\n",
    "        data = pd.read_sql(sql = 'select * from %s limit 100'%table, con = connect)\n",
    "    elif mode == \"sql\" and sql_query:\n",
    "        data = pd.read_sql(sql = sql_query , con = connect)\n",
    "\n",
    "    return data"
   ]
  },
  {
   "cell_type": "code",
   "execution_count": null,
   "metadata": {},
   "outputs": [],
   "source": [
    "def plotmap(point_dic):    \n",
    "    plt.figure(figsize=(20,20))    \n",
    "    meridians = np.arange(0.,360.,2.5)\n",
    "    parallels = np.arange(0.,90,2.5) \n",
    "    m = Basemap(projection='gall', llcrnrlat=29, llcrnrlon=115,urcrnrlat=35,urcrnrlon=120)\n",
    "    m.drawparallels(parallels,labels=[1,0,0,0],fontsize=10)\n",
    "    m.drawmeridians(meridians,labels=[0,0,0,1],fontsize=10)    \n",
    "    for key,val in point_dic.items():\n",
    "        longs,lats = val['longitude'],val['latitude']\n",
    "        x,y = m(np.array(longs),np.array(lats))\n",
    "        m.scatter(x,y,s=10,label=key)\n",
    "    plt.legend(loc=1)\n",
    "    plt.show()"
   ]
  },
  {
   "cell_type": "markdown",
   "metadata": {},
   "source": [
    "## 交调站"
   ]
  },
  {
   "cell_type": "code",
   "execution_count": null,
   "metadata": {},
   "outputs": [],
   "source": [
    "traffic_flow_station_data = read_sql(database='botgodata',table='t_trff_flow_station_data', mode='top100')"
   ]
  },
  {
   "cell_type": "code",
   "execution_count": null,
   "metadata": {},
   "outputs": [],
   "source": [
    "traffic_flow_station_position = read_sql(database='botgodata',table='t_trff_flow_station_location')\n",
    "valid_positions = traffic_flow_station_position[traffic_flow_station_position['longitude']>0]\n",
    "# print(\"longs\")\n",
    "# print(valid_positions['longitude'].min(),valid_positions['longitude'].max())\n",
    "# print(\"lats\")\n",
    "# print(valid_positions['latitude'].min(),valid_positions['latitude'].max())\n",
    "point_dic = {\"traffic_flow_station\":valid_positions}\n",
    "\n",
    "plotmap(point_dic)"
   ]
  },
  {
   "cell_type": "code",
   "execution_count": null,
   "metadata": {},
   "outputs": [],
   "source": [
    "traffic_flow_station_data.columns"
   ]
  },
  {
   "cell_type": "code",
   "execution_count": null,
   "metadata": {
    "scrolled": true
   },
   "outputs": [],
   "source": [
    "traffic_flow_station_data.head(10)"
   ]
  },
  {
   "cell_type": "markdown",
   "metadata": {},
   "source": [
    "## 收费站"
   ]
  },
  {
   "cell_type": "code",
   "execution_count": null,
   "metadata": {},
   "outputs": [],
   "source": [
    "toll_station_position = read_sql(database='botgodata',table='t_toll_station')"
   ]
  },
  {
   "cell_type": "code",
   "execution_count": null,
   "metadata": {},
   "outputs": [],
   "source": [
    "valid_positions = toll_station_position[toll_station_position['Gd_longitude']>0]\n",
    "valid_positions['longitude'] = valid_positions['Gd_longitude']\n",
    "valid_positions['latitude'] = valid_positions['Gd_latitude']"
   ]
  },
  {
   "cell_type": "code",
   "execution_count": null,
   "metadata": {},
   "outputs": [],
   "source": [
    "len(valid_positions),len(toll_station_position)"
   ]
  },
  {
   "cell_type": "code",
   "execution_count": null,
   "metadata": {},
   "outputs": [],
   "source": [
    "point_dic['toll_gate'] = valid_positions\n",
    "    \n",
    "plotmap(point_dic)"
   ]
  },
  {
   "cell_type": "markdown",
   "metadata": {},
   "source": [
    "# 完蛋，没有摄像头数据"
   ]
  },
  {
   "cell_type": "markdown",
   "metadata": {},
   "source": [
    "# 好吧，编数据，一本正经......\n",
    "## 先编个车辆产生器"
   ]
  },
  {
   "cell_type": "code",
   "execution_count": null,
   "metadata": {},
   "outputs": [],
   "source": [
    "def in_vehicle_generator():\n",
    "    while True:\n",
    "        num_cars = np.random.randint(0,5)\n",
    "#         velocities = np.random.randint(0,140,size=num_cars)\n",
    "        velocities = np.random.choice([30,50,80,100,120],p=[0.2]*5,size=num_cars)\n",
    "        yield (num_cars,velocities)\n",
    "\n",
    "def out_vehicle_generator(max_num):\n",
    "    while True:\n",
    "        num_cars = np.random.randint(0,max_num)\n",
    "        velocities = np.random.choice([30,50,80,100,120],p=[0.2]*5,size=num_cars)\n",
    "        yield (num_cars,velocities)"
   ]
  },
  {
   "cell_type": "markdown",
   "metadata": {},
   "source": [
    "## 假设取了1km路，路的两端正好两个摄像头，simulate 50 次"
   ]
  },
  {
   "cell_type": "markdown",
   "metadata": {},
   "source": [
    "$$speed_{avg} = mean(speed_{in},speed_{out}) $$\n",
    "\n",
    "\n",
    "$$num_{total} => count \\space all \\space  the \\space vehicles $$\n",
    "\n",
    "\n",
    "$$ density = \\frac{num_{total}}{length} $$\n",
    "\n",
    "if $density$ > $density_{critical}$ or $speed$ < $speed{critical}$:\n",
    "    \n",
    "   Congestion warning !!\n"
   ]
  },
  {
   "cell_type": "code",
   "execution_count": null,
   "metadata": {},
   "outputs": [],
   "source": [
    "total_num = 0\n",
    "avg_speed = 0\n",
    "for i in range(50):\n",
    "    p1 = np.random.uniform()\n",
    "    p2 = np.random.uniform()\n",
    "    num_cars_in, num_cars_out = 0,0\n",
    "    if p1>0.3:\n",
    "        num_cars_in,in_velocities = next(in_vehicle_generator())\n",
    "        total_num += num_cars_in\n",
    "    if p2>0.3 and total_num:\n",
    "        num_cars_out,out_velocities = next(out_vehicle_generator(total_num))\n",
    "        total_num -= num_cars_out\n",
    "#     print(\"in_out\",num_cars_in,num_cars_out)\n",
    "    if num_cars_in or num_cars_out:\n",
    "        avg_speed = np.mean(np.concatenate([in_velocities,out_velocities]))\n",
    "    if (avg_speed<50 or total_num>8):\n",
    "        print(\"congestion warning!!\",total_num,avg_speed)\n",
    "    else:\n",
    "#         print(\"total num of vehicles\",total_num)\n",
    "        print(total_num,avg_speed)"
   ]
  },
  {
   "cell_type": "code",
   "execution_count": null,
   "metadata": {},
   "outputs": [],
   "source": []
  },
  {
   "cell_type": "markdown",
   "metadata": {},
   "source": [
    "## 收费站数据探索"
   ]
  },
  {
   "cell_type": "code",
   "execution_count": null,
   "metadata": {},
   "outputs": [],
   "source": [
    "in_fname = '../data/toll_in_data.csv'\n",
    "out_fname = '../data/toll_out_data.csv'"
   ]
  },
  {
   "cell_type": "code",
   "execution_count": null,
   "metadata": {},
   "outputs": [],
   "source": [
    "toll_in_data = pd.read_csv(in_fname,parse_dates=['OPERATEON'])\n",
    "toll_out_data = pd.read_csv(out_fname,parse_dates=['INOPERATEON'])"
   ]
  },
  {
   "cell_type": "code",
   "execution_count": null,
   "metadata": {
    "scrolled": true
   },
   "outputs": [],
   "source": [
    "toll_in_data['OPERATEON'].min()"
   ]
  },
  {
   "cell_type": "code",
   "execution_count": null,
   "metadata": {},
   "outputs": [],
   "source": [
    "# toll_in_data[toll_in_data['OPERATEON']<'2018-01-11 00:01:50']['OPERATEON']"
   ]
  },
  {
   "cell_type": "code",
   "execution_count": null,
   "metadata": {},
   "outputs": [],
   "source": [
    "toll_in_data.head(10)"
   ]
  },
  {
   "cell_type": "code",
   "execution_count": null,
   "metadata": {},
   "outputs": [],
   "source": [
    "toll_in_data.columns"
   ]
  },
  {
   "cell_type": "code",
   "execution_count": null,
   "metadata": {},
   "outputs": [],
   "source": [
    "toll_out_data.head(10)"
   ]
  },
  {
   "cell_type": "code",
   "execution_count": null,
   "metadata": {},
   "outputs": [],
   "source": [
    "print(list(toll_out_data.columns))"
   ]
  },
  {
   "cell_type": "code",
   "execution_count": null,
   "metadata": {},
   "outputs": [],
   "source": [
    "'STATIONID' in toll_out_data.columns"
   ]
  },
  {
   "cell_type": "markdown",
   "metadata": {},
   "source": [
    "## 标识站"
   ]
  },
  {
   "cell_type": "code",
   "execution_count": null,
   "metadata": {},
   "outputs": [],
   "source": [
    "check_fname = \"../data/check_station.csv\"\n"
   ]
  },
  {
   "cell_type": "code",
   "execution_count": null,
   "metadata": {},
   "outputs": [],
   "source": [
    "\n",
    "names = ['Id','ChkStaID','CamID','listID',\n",
    "                     'oprDT','VehPlate','BigImage',\n",
    "                    'BinaryImage','RouteFlag','Updated','Uploaded','SmallImage']\n",
    "check_data = pd.read_csv(check_fname,header=None,encoding='gbk',names=names)"
   ]
  },
  {
   "cell_type": "code",
   "execution_count": null,
   "metadata": {},
   "outputs": [],
   "source": [
    "check_data['oprDT'] = check_data['oprDT'].astype('datetime64[ns]')"
   ]
  },
  {
   "cell_type": "code",
   "execution_count": null,
   "metadata": {},
   "outputs": [],
   "source": [
    "check_data['oprDT'].dtype"
   ]
  },
  {
   "cell_type": "code",
   "execution_count": null,
   "metadata": {
    "scrolled": false
   },
   "outputs": [],
   "source": [
    "check_data.head(10)"
   ]
  },
  {
   "cell_type": "markdown",
   "metadata": {},
   "source": [
    "## 高德地图数据 (拥堵实时修正)"
   ]
  },
  {
   "cell_type": "code",
   "execution_count": null,
   "metadata": {},
   "outputs": [],
   "source": [
    "import numpy as np\n",
    "import pandas as pd\n",
    "import pymysql\n",
    "import datetime as dt\n",
    "\n"
   ]
  },
  {
   "cell_type": "code",
   "execution_count": null,
   "metadata": {},
   "outputs": [],
   "source": [
    "TIME_INTERVAL = 5 # minutes\n",
    "CAMERA_LENGTH = 0.05 # km\n",
    "\n",
    "\n",
    "def camera_judge_congestion(camera_id,debug=True):\n",
    "    #### connect to camera database\n",
    "    #### judge if there is a congestion \n",
    "    if debug:\n",
    "        return 1\n",
    "    else:\n",
    "        pass\n",
    "     \n",
    "    \n",
    "\n",
    "def congestion_rectify_main(debug=True):\n",
    "    \n",
    "    if debug:\n",
    "        s1 = '2017-12-11 22:53:21'\n",
    "        s2 = '2017-12-11 23:03:21'\n",
    "        camera_infos = []\n",
    "    else:\n",
    "        s2 = dt.datetime.now()\n",
    "        s1 = str(s2 - dt.timedelta(minutes=TIME_INTERVAL))\n",
    "        s2 = str(s2)\n",
    "        \n",
    "    ### 建立连接，测试数据库 192.168.31.200:3306,  db: botgodat\n",
    "    connect = pymysql.Connect(host='192.168.31.200' ,\n",
    "                         port =3306,\n",
    "                         user='root', \n",
    "                         passwd = 'Alldo807!', \n",
    "                         db = 'godb')\n",
    "    cur = connect.cursor()\n",
    "    \n",
    "    ### 两个数据表： t_gaode_trff_congestion &  t_gd_congest 取前者试验, 两个时间 insert_time & create_time 存在时间差2min\n",
    "    cong_query = \"SELECT * FROM t_gaode_trff_congestion WHERE insert_time BETWEEN '%s' AND '%s'\"%(s1,s2)\n",
    "    congest_info = pd.read_sql(cong_query,connect)\n",
    "    \n",
    "    camera_ids = []\n",
    "    for ind,entry in congest_info.iterrows():\n",
    "        if entry.road_number1 == entry.road_number2:\n",
    "            start_stake = entry.stake_number1 - 0.5*CAMERA_LENGTH\n",
    "            end_stake = entry.stake_number2 + 0.5*CAMERA_LENGTH\n",
    "            print(start_stake,end_stake)\n",
    "            \n",
    "    ### 选择在拥堵范围内的摄像头\n",
    "            if debug:\n",
    "                camera_query = \"SELECT * FROM t_camera WHERE (highway_number = '{}') AND area LIKE '%干线%' \\\n",
    "                                and (stake_number between {} and {})\".format(entry.road_number1, start_stake,end_stake)\n",
    "                camera_info = pd.read_sql(camera_query,connect)\n",
    "                camera_infos.append(camera_info)\n",
    "                camera_ids = (list(camera_infos['c_id']),list(camera_infos['stake_number'])\n",
    "                 \n",
    "            else:\n",
    "#                 camera_query = \"SELECT c_id,stake_number FROM t_camera WHERE (highway_number = '{}') AND area LIKE '%干线%' \\\n",
    "#                                 and (stake_number between {} and {})\".format(entry.road_number1, start_stake,end_stake)\n",
    "#                 cur.execute(camera_query)\n",
    "#                 camera_ids = cur.fetchall()\n",
    "                pass\n",
    "            for id_,loc in camera_ids:\n",
    "                \n",
    "                is_congest = camera_judge_congestion(id_)\n",
    "                \n",
    "                if not is_congest:\n",
    "                    entry['xys']\n",
    "                    \n",
    "                        \n",
    "                              \n",
    "                    \n",
    "                \n",
    "            \n",
    "            \n",
    "                \n",
    "    \n",
    "            \n",
    "    return congest_info,camera_infos \n",
    "    \n",
    "cong_info,camera_info = congestion_rectify_main()"
   ]
  },
  {
   "cell_type": "code",
   "execution_count": null,
   "metadata": {},
   "outputs": [],
   "source": [
    "camera_info[0].c_id"
   ]
  },
  {
   "cell_type": "code",
   "execution_count": null,
   "metadata": {},
   "outputs": [],
   "source": [
    "camera_info[0].stake"
   ]
  },
  {
   "cell_type": "code",
   "execution_count": null,
   "metadata": {},
   "outputs": [],
   "source": [
    "cong_info"
   ]
  },
  {
   "cell_type": "code",
   "execution_count": null,
   "metadata": {},
   "outputs": [],
   "source": []
  },
  {
   "cell_type": "code",
   "execution_count": null,
   "metadata": {
    "scrolled": false
   },
   "outputs": [],
   "source": [
    "coords = cong_info['gd_xys'][0].split(';')\n",
    "xs = [float(x.split(',')[0]) for x in coords[:]]\n",
    "ys = [float(y.split(',')[1]) for y in coords[:]]\n",
    "\n"
   ]
  },
  {
   "cell_type": "code",
   "execution_count": null,
   "metadata": {},
   "outputs": [],
   "source": [
    "xs"
   ]
  },
  {
   "cell_type": "code",
   "execution_count": null,
   "metadata": {},
   "outputs": [],
   "source": [
    "plt.figure(figsize=(10,10))    \n",
    "meridians = np.arange(0.,360.,0.5)\n",
    "parallels = np.arange(0.,90,0.2) \n",
    "m = Basemap(projection='gall', llcrnrlat=33.1, llcrnrlon=115.9,urcrnrlat=33.28,urcrnrlon=116.1)\n",
    "m.drawparallels(parallels,labels=[1,0,0,0],fontsize=10)\n",
    "m.drawmeridians(meridians,labels=[0,0,0,1],fontsize=10) \n",
    "x,y = m(np.array(xs),np.array(ys))\n",
    "m.plot(x,y)\n",
    "m.plot(x[:-5],y[:-5],c='r')\n",
    "m.plot(x[:-15],y[:-15],c='g')\n",
    "plt.show()"
   ]
  },
  {
   "cell_type": "code",
   "execution_count": null,
   "metadata": {},
   "outputs": [],
   "source": [
    "connect = pymysql.Connect(host='192.168.31.200' ,\n",
    "                     port =3306,\n",
    "                     user='root', \n",
    "                     passwd = 'Alldo807!', \n",
    "                     db = 'godb')\n",
    "\n",
    "### 两个数据表： t_gaode_trff_congestion &  t_gd_congest 取前者试验, 两个时间 insert_time & create_time 存在时间差2min\n",
    "query = \"SELECT c_id,stake_number FROM t_camera WHERE (highway_number = '{}') AND area LIKE '%干线%' \\\n",
    "        and (stake_number between {} and {})\".format('G36', 280,290)  \n",
    "\n",
    "\n",
    "cur = connect.cursor()\n",
    "cur.execute(query)\n",
    "results = cur.fetchall()\n",
    "results"
   ]
  },
  {
   "cell_type": "code",
   "execution_count": null,
   "metadata": {},
   "outputs": [],
   "source": [
    "for id_,loc in results:\n",
    "    print(id_,loc)"
   ]
  },
  {
   "cell_type": "code",
   "execution_count": null,
   "metadata": {},
   "outputs": [],
   "source": [
    "list(results)[0][0]"
   ]
  },
  {
   "cell_type": "code",
   "execution_count": null,
   "metadata": {},
   "outputs": [],
   "source": [
    "[].extend(results)"
   ]
  },
  {
   "cell_type": "code",
   "execution_count": null,
   "metadata": {},
   "outputs": [],
   "source": [
    "results"
   ]
  },
  {
   "cell_type": "code",
   "execution_count": null,
   "metadata": {},
   "outputs": [],
   "source": []
  },
  {
   "cell_type": "code",
   "execution_count": null,
   "metadata": {},
   "outputs": [],
   "source": []
  },
  {
   "cell_type": "code",
   "execution_count": null,
   "metadata": {},
   "outputs": [],
   "source": []
  },
  {
   "cell_type": "code",
   "execution_count": null,
   "metadata": {},
   "outputs": [],
   "source": []
  },
  {
   "cell_type": "markdown",
   "metadata": {},
   "source": [
    "# 高级算法研究"
   ]
  },
  {
   "cell_type": "markdown",
   "metadata": {},
   "source": [
    "## 网络模型 + Kirchhoff's law"
   ]
  },
  {
   "cell_type": "code",
   "execution_count": 1,
   "metadata": {},
   "outputs": [],
   "source": [
    "import networkx as nx\n",
    "import numpy as np"
   ]
  },
  {
   "cell_type": "code",
   "execution_count": 2,
   "metadata": {},
   "outputs": [],
   "source": [
    "# adj = np.array([[1,1,0,1,1],[0,1,1,0,0],[0,0,0,1,0],[0,0,0,1,0],[0,0,0,1,1]])\n",
    "\n",
    "adj = np.array([[0,1,0,1,1],[0,0,1,0,0],[0,0,0,1,0],[0,0,0,0,0],[0,0,0,1,0]])"
   ]
  },
  {
   "cell_type": "code",
   "execution_count": 3,
   "metadata": {},
   "outputs": [],
   "source": [
    "graph = nx.from_numpy_array(adj,create_using=nx.DiGraph())\n",
    "# graph= graph.to_directed()\n",
    "pos=nx.shell_layout(graph)"
   ]
  },
  {
   "cell_type": "code",
   "execution_count": 8,
   "metadata": {},
   "outputs": [
    {
     "data": {
      "image/png": "[encoded data removed]",
      "text/plain": [
       "<matplotlib.figure.Figure at 0xa1f4e7dd8>"
      ]
     },
     "metadata": {},
     "output_type": "display_data"
    }
   ],
   "source": [
    "nx.draw(graph,pos,with_labels = True,node_color=['r','g','g','r','b'])"
   ]
  },
  {
   "cell_type": "code",
   "execution_count": 5,
   "metadata": {},
   "outputs": [
    {
     "data": {
      "text/plain": [
       "(6, OutEdgeView([(0, 1), (0, 3), (0, 4), (1, 2), (2, 3), (4, 3)]))"
      ]
     },
     "execution_count": 5,
     "metadata": {},
     "output_type": "execute_result"
    }
   ],
   "source": [
    "len(graph.edges()),graph.edges()"
   ]
  },
  {
   "cell_type": "code",
   "execution_count": 6,
   "metadata": {},
   "outputs": [
    {
     "data": {
      "text/plain": [
       "array([[-1., -1., -1.,  0.,  0.,  0.],\n",
       "       [ 1.,  0.,  0., -1.,  0.,  0.],\n",
       "       [ 0.,  0.,  0.,  1., -1.,  0.],\n",
       "       [ 0.,  1.,  0.,  0.,  1.,  1.],\n",
       "       [ 0.,  0.,  1.,  0.,  0., -1.]])"
      ]
     },
     "execution_count": 6,
     "metadata": {},
     "output_type": "execute_result"
    }
   ],
   "source": [
    "incidence_mat = nx.incidence_matrix(graph,oriented=True).toarray()\n",
    "incidence_mat"
   ]
  },
  {
   "cell_type": "code",
   "execution_count": 7,
   "metadata": {},
   "outputs": [
    {
     "data": {
      "text/plain": [
       "array([[-8],\n",
       "       [ 1],\n",
       "       [ 1],\n",
       "       [ 5],\n",
       "       [ 1]])"
      ]
     },
     "execution_count": 7,
     "metadata": {},
     "output_type": "execute_result"
    }
   ],
   "source": [
    "in_out = np.array([-8,1,1,5,1]).reshape(-1,1)"
   ]
  },
  {
   "cell_type": "markdown",
   "metadata": {},
   "source": [
    "$$ A x = y$$\n",
    "\n",
    "$$A \\in R ^{n\\times{m}} \\space when \\space n<m$$\n",
    "\n",
    "### 这是一个不定方程，需要提供摄像头流量来补充方程\n",
    "\n",
    "### 因为道路有2个独立的圈，所以rank是6-2=4，需要补充两个摄像头数据"
   ]
  },
  {
   "cell_type": "code",
   "execution_count": 27,
   "metadata": {},
   "outputs": [
    {
     "name": "stdout",
     "output_type": "stream",
     "text": [
      "4\n"
     ]
    },
    {
     "data": {
      "text/plain": [
       "array([3., 4., 1., 2., 1., 0.])"
      ]
     },
     "execution_count": 27,
     "metadata": {},
     "output_type": "execute_result"
    }
   ],
   "source": [
    "# known_flows = [2,2]\n",
    "# known_cols = [1,4]\n",
    "\n",
    "known_flows = [4,0]\n",
    "known_cols = [1,5]\n",
    "\n",
    "in_out = np.array([8,-1,-1,-5,-1]).reshape(-1,1)\n",
    "\n",
    "def calcualte_flow(incidence_mat, nodal_flow, known_flows, known_cols):\n",
    "    num_roads = incidence_mat.shape[1]\n",
    "    print(np.linalg.matrix_rank(incidence_mat))\n",
    "    output_flows = np.zeros(num_roads)\n",
    "    known_flows = np.array(known_flows)\n",
    "    known_cols = np.array(known_cols)\n",
    "    y = -nodal_flow - incidence_mat[:,known_cols].dot(known_flows.reshape(-1,1))\n",
    "    unknown_cols = np.setdiff1d(np.arange(num_roads),known_cols)\n",
    "    A = incidence_mat[:,unknown_cols]\n",
    "    output_flows[known_cols] = known_flows\n",
    "    output_flows[unknown_cols] = (np.linalg.pinv(A).dot(y)).flatten()\n",
    "    return output_flows\n",
    "    \n",
    "calcualte_flow(incidence_mat, in_out, known_flows,known_cols)"
   ]
  },
  {
   "cell_type": "markdown",
   "metadata": {},
   "source": [
    "#### New configuration"
   ]
  },
  {
   "cell_type": "code",
   "execution_count": null,
   "metadata": {},
   "outputs": [],
   "source": [
    "adj = np.array([[0,1,0,1,1],[0,0,1,0,0],[0,0,0,1,0],[0,0,0,0,0],[0,0,0,1,0]])"
   ]
  },
  {
   "cell_type": "code",
   "execution_count": null,
   "metadata": {},
   "outputs": [],
   "source": []
  },
  {
   "cell_type": "code",
   "execution_count": null,
   "metadata": {},
   "outputs": [],
   "source": []
  },
  {
   "cell_type": "markdown",
   "metadata": {},
   "source": [
    "## 概率模型 —— 完全没有摄像头 (Markovian Model / Bayes Network)"
   ]
  },
  {
   "cell_type": "code",
   "execution_count": null,
   "metadata": {},
   "outputs": [],
   "source": [
    "nx.draw(graph,pos,with_labels = True,node_color=['r','g','g','r','b'])"
   ]
  },
  {
   "cell_type": "code",
   "execution_count": null,
   "metadata": {},
   "outputs": [],
   "source": []
  },
  {
   "cell_type": "code",
   "execution_count": null,
   "metadata": {},
   "outputs": [],
   "source": []
  },
  {
   "cell_type": "code",
   "execution_count": null,
   "metadata": {},
   "outputs": [],
   "source": [
    "congestion = read_sql(database='botgo_anhui',table='t_gaode_congestion', mode='top100')"
   ]
  },
  {
   "cell_type": "code",
   "execution_count": null,
   "metadata": {},
   "outputs": [],
   "source": [
    "congestion['xys'].iloc[0]"
   ]
  },
  {
   "cell_type": "code",
   "execution_count": null,
   "metadata": {},
   "outputs": [],
   "source": [
    "np.linalg.matrix_rank()"
   ]
  },
  {
   "cell_type": "code",
   "execution_count": null,
   "metadata": {},
   "outputs": [],
   "source": [
    "A = np.array([[1,-1,0],[0,1,1],[-1,0,-1]])\n",
    "\n",
    "A"
   ]
  },
  {
   "cell_type": "code",
   "execution_count": null,
   "metadata": {},
   "outputs": [],
   "source": []
  },
  {
   "cell_type": "code",
   "execution_count": null,
   "metadata": {},
   "outputs": [],
   "source": []
  },
  {
   "cell_type": "code",
   "execution_count": null,
   "metadata": {},
   "outputs": [],
   "source": []
  }
 ],
 "metadata": {
  "kernelspec": {
   "display_name": "Python 3",
   "language": "python",
   "name": "python3"
  },
  "language_info": {
   "codemirror_mode": {
    "name": "ipython",
    "version": 3
   },
   "file_extension": ".py",
   "mimetype": "text/x-python",
   "name": "python",
   "nbconvert_exporter": "python",
   "pygments_lexer": "ipython3",
   "version": "3.6.5"
  }
 },
 "nbformat": 4,
 "nbformat_minor": 2
}
